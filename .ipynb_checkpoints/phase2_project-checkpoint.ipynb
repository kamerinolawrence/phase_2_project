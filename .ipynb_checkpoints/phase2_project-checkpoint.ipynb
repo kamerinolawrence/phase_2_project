{
 "cells": [
  {
   "cell_type": "markdown",
   "id": "8626e44e-4a02-4d41-95c5-77f4ecc49a92",
   "metadata": {},
   "source": [
    "## USING DATA TO GUIDE MOVIE PRODUCTION STRATEGY"
   ]
  },
  {
   "cell_type": "markdown",
   "id": "029ca9e5-c7a8-4cd7-84d9-82a98a72dac3",
   "metadata": {},
   "source": [
    "### INTRODUCTION :\n",
    "\n",
    "#### Movies tell stories that make us laugh , cry or think deeply . They are used for entertainment purposes , as well as educational purposes \n",
    "\n",
    "#### Through Data Analysis , we can move beyond subjective opinions to uncover measurable insights into the factors that drives a films success or failure \n",
    "\n",
    "#### This project looks at movie data to find out what makes a film popular or successful\n",
    "\n",
    "#### By studying factors like Genre , Budget , Ratings and Box office results ,, we can discover interesting patterns and learn how different factors affect how people respond to a movie "
   ]
  },
  {
   "cell_type": "markdown",
   "id": "206672ce-8f72-4693-9ae5-f22cf9c1e5b0",
   "metadata": {},
   "source": [
    "## BUSINESS UNDERSTANDING \n",
    "### OBJECTIVE :\n",
    "##### Your company is launching a movie studio but lacks domain experience in film production. \n",
    "##### The goal is to use data to identify what types of films tend to succeed at the box office and turn these findings into actionable production strategies.\n",
    "\n",
    "\n",
    "##### KEY BUSINESS QUESTIONS INCLUDE :\n",
    " 1.  What genres and themes are performing the best\n",
    " 2.  What are the ideal release timings ( seasons or years) for top perfoming movies\n",
    " 3.  What are the audience demographics and viewing preferences associated with top performing movies\n",
    " 4.  What are the emerging trends or underrepresented genres that show potential for growth\n",
    " 5.  How do critic reviews versus audience reviews impact the box office success\n",
    " 6.  Which actors , Directors or production companies are associated with successful movies\n",
    "\n",
    "\n",
    "##### Constraints and challenges :\n",
    "1. Multiple datasets with different formats and sources\n",
    "2. Possible data inconsistencies in movie identifiers e.g title variations "
   ]
  },
  {
   "cell_type": "markdown",
   "id": "4f1cafce-d044-4ff5-9b9e-70c13e959f0c",
   "metadata": {},
   "source": [
    "### DATA UNDERSTANDING \n",
    "#### OVERVIEW\n",
    "##### To identify what makes a movie successful , we're working with data from five major platforms , each offering offering different slices of the cinematic picture\n",
    "\n",
    "1. Box Office Mojo : Revenue and Earnings \n",
    "2. IMDB : Ratings , genres , cast and crew metadata\n",
    "3. Rotten Tomatoes : Critic and Audience scores \n",
    "4. TheMovieDB : Popularity metrics, genre tags \n",
    "5. The Numbers : Budget , Marketing Costs , Detailed financials\n",
    "\n",
    "\n",
    "##### Key Variables observed include;\n",
    "1. title, release_date, genre, budget, revenue, rating, votes, runtime\n",
    "\n",
    "2. Financial metrics: domestic_gross, worldwide_gross\n",
    "\n",
    "3. Qualitative signals: critic_score, audience_score, popularity, franchise, sequel_flag"
   ]
  },
  {
   "cell_type": "markdown",
   "id": "68532476-9ea3-4a88-9d85-952047b0f326",
   "metadata": {},
   "source": [
    "### DATA PREPARATION \n",
    "\n",
    "#### Loading the Data"
   ]
  },
  {
   "cell_type": "code",
   "execution_count": 1,
   "id": "9afe7c41-7e9e-427a-8ddd-0fa2673d78d6",
   "metadata": {},
   "outputs": [],
   "source": [
    "1.1# import pandas alias\n",
    "import pandas as pd \n",
    "\n",
    "1.2# import numpy\n",
    "import numpy as np\n",
    "\n",
    "1.3# import matplotlib .pyplot\n",
    "import matplotlib.pyplot as plt\n",
    "%matplotlib inline\n",
    "\n",
    "1.4# import seaborn \n",
    "import seaborn as sns \n",
    "\n",
    "1.5# import sqlite for sql database\n",
    "import sqlite3\n",
    "\n",
    "1.6# import warnings and ignore\n",
    "import warnings\n",
    "warnings.filterwarnings('ignore')"
   ]
  },
  {
   "cell_type": "code",
   "execution_count": null,
   "id": "5d6a4135-615b-4d5e-a12d-6fcc02a451e3",
   "metadata": {},
   "outputs": [],
   "source": [
    "import zipfile\n",
    "import os\n",
    "\n",
    "# extract the database from the zip file \n",
    "zip_path = \"im.db.zip\"\n",
    "extracted_zip_path = \"./im.db\"\n",
    "\n",
    "# connect to the extracted sqlite database\n",
    "conn = sqlite3.connect(zip_data)\n",
    "\n",
    "# read the tables from the database \n",
    "tables = pd.read_sql(\"\"\"\n",
    "SELECT name \n",
    "FROM sqlite3_master\n",
    "WHERE type=\"table\"\n",
    ";\"\"\",conn)"
   ]
  },
  {
   "cell_type": "code",
   "execution_count": 2,
   "id": "478a9cd6-8e17-45a4-80e2-d0240adbbbf6",
   "metadata": {},
   "outputs": [
    {
     "data": {
      "text/html": [
       "<div>\n",
       "<style scoped>\n",
       "    .dataframe tbody tr th:only-of-type {\n",
       "        vertical-align: middle;\n",
       "    }\n",
       "\n",
       "    .dataframe tbody tr th {\n",
       "        vertical-align: top;\n",
       "    }\n",
       "\n",
       "    .dataframe thead th {\n",
       "        text-align: right;\n",
       "    }\n",
       "</style>\n",
       "<table border=\"1\" class=\"dataframe\">\n",
       "  <thead>\n",
       "    <tr style=\"text-align: right;\">\n",
       "      <th></th>\n",
       "      <th>name</th>\n",
       "    </tr>\n",
       "  </thead>\n",
       "  <tbody>\n",
       "    <tr>\n",
       "      <th>0</th>\n",
       "      <td>movie_basics</td>\n",
       "    </tr>\n",
       "    <tr>\n",
       "      <th>1</th>\n",
       "      <td>directors</td>\n",
       "    </tr>\n",
       "    <tr>\n",
       "      <th>2</th>\n",
       "      <td>known_for</td>\n",
       "    </tr>\n",
       "    <tr>\n",
       "      <th>3</th>\n",
       "      <td>movie_akas</td>\n",
       "    </tr>\n",
       "    <tr>\n",
       "      <th>4</th>\n",
       "      <td>movie_ratings</td>\n",
       "    </tr>\n",
       "    <tr>\n",
       "      <th>5</th>\n",
       "      <td>persons</td>\n",
       "    </tr>\n",
       "    <tr>\n",
       "      <th>6</th>\n",
       "      <td>principals</td>\n",
       "    </tr>\n",
       "    <tr>\n",
       "      <th>7</th>\n",
       "      <td>writers</td>\n",
       "    </tr>\n",
       "  </tbody>\n",
       "</table>\n",
       "</div>"
      ],
      "text/plain": [
       "            name\n",
       "0   movie_basics\n",
       "1      directors\n",
       "2      known_for\n",
       "3     movie_akas\n",
       "4  movie_ratings\n",
       "5        persons\n",
       "6     principals\n",
       "7        writers"
      ]
     },
     "metadata": {},
     "output_type": "display_data"
    }
   ],
   "source": [
    "import zipfile\n",
    "import os\n",
    "import sqlite3\n",
    "import pandas as pd\n",
    "\n",
    "# Step 1: Extract the database from the zip file\n",
    "zip_path = \"im.db.zip\"\n",
    "extract_dir = \"extracted_data\"\n",
    "\n",
    "with zipfile.ZipFile(zip_path, 'r') as zip_ref:\n",
    "    zip_ref.extractall(extract_dir)\n",
    "\n",
    "# Step 2: Locate the extracted .db file\n",
    "db_filename = \"im.db\"  # adjust this if the filename differs\n",
    "db_path = os.path.join(extract_dir, db_filename)\n",
    "\n",
    "# Step 3: Connect to the database\n",
    "conn = sqlite3.connect(db_path)\n",
    "\n",
    "# Step 4: List the tables in the database\n",
    "tables = pd.read_sql(\"\"\"\n",
    "SELECT name\n",
    "FROM sqlite_master\n",
    "WHERE type=\"table\";\n",
    "\"\"\", conn)\n",
    "\n",
    "display(tables)"
   ]
  },
  {
   "cell_type": "markdown",
   "id": "9fdf3d92-d52c-479b-8d98-c37acb6a1433",
   "metadata": {},
   "source": [
    "#### data 2"
   ]
  },
  {
   "cell_type": "code",
   "execution_count": 3,
   "id": "ea0a18d0-3854-4202-bef3-e16f34e99ff4",
   "metadata": {},
   "outputs": [
    {
     "data": {
      "text/html": [
       "<div>\n",
       "<style scoped>\n",
       "    .dataframe tbody tr th:only-of-type {\n",
       "        vertical-align: middle;\n",
       "    }\n",
       "\n",
       "    .dataframe tbody tr th {\n",
       "        vertical-align: top;\n",
       "    }\n",
       "\n",
       "    .dataframe thead th {\n",
       "        text-align: right;\n",
       "    }\n",
       "</style>\n",
       "<table border=\"1\" class=\"dataframe\">\n",
       "  <thead>\n",
       "    <tr style=\"text-align: right;\">\n",
       "      <th></th>\n",
       "      <th>title</th>\n",
       "      <th>studio</th>\n",
       "      <th>domestic_gross</th>\n",
       "      <th>foreign_gross</th>\n",
       "      <th>year</th>\n",
       "    </tr>\n",
       "  </thead>\n",
       "  <tbody>\n",
       "    <tr>\n",
       "      <th>0</th>\n",
       "      <td>Toy Story 3</td>\n",
       "      <td>BV</td>\n",
       "      <td>415000000.0</td>\n",
       "      <td>652000000</td>\n",
       "      <td>2010</td>\n",
       "    </tr>\n",
       "    <tr>\n",
       "      <th>1</th>\n",
       "      <td>Alice in Wonderland (2010)</td>\n",
       "      <td>BV</td>\n",
       "      <td>334200000.0</td>\n",
       "      <td>691300000</td>\n",
       "      <td>2010</td>\n",
       "    </tr>\n",
       "    <tr>\n",
       "      <th>2</th>\n",
       "      <td>Harry Potter and the Deathly Hallows Part 1</td>\n",
       "      <td>WB</td>\n",
       "      <td>296000000.0</td>\n",
       "      <td>664300000</td>\n",
       "      <td>2010</td>\n",
       "    </tr>\n",
       "    <tr>\n",
       "      <th>3</th>\n",
       "      <td>Inception</td>\n",
       "      <td>WB</td>\n",
       "      <td>292600000.0</td>\n",
       "      <td>535700000</td>\n",
       "      <td>2010</td>\n",
       "    </tr>\n",
       "    <tr>\n",
       "      <th>4</th>\n",
       "      <td>Shrek Forever After</td>\n",
       "      <td>P/DW</td>\n",
       "      <td>238700000.0</td>\n",
       "      <td>513900000</td>\n",
       "      <td>2010</td>\n",
       "    </tr>\n",
       "  </tbody>\n",
       "</table>\n",
       "</div>"
      ],
      "text/plain": [
       "                                         title studio  domestic_gross  \\\n",
       "0                                  Toy Story 3     BV     415000000.0   \n",
       "1                   Alice in Wonderland (2010)     BV     334200000.0   \n",
       "2  Harry Potter and the Deathly Hallows Part 1     WB     296000000.0   \n",
       "3                                    Inception     WB     292600000.0   \n",
       "4                          Shrek Forever After   P/DW     238700000.0   \n",
       "\n",
       "  foreign_gross  year  \n",
       "0     652000000  2010  \n",
       "1     691300000  2010  \n",
       "2     664300000  2010  \n",
       "3     535700000  2010  \n",
       "4     513900000  2010  "
      ]
     },
     "execution_count": 3,
     "metadata": {},
     "output_type": "execute_result"
    }
   ],
   "source": [
    "# read the movies gross dataset\n",
    "movies_gross = pd.read_csv(\"bom.movie_gross.csv.gz\")\n",
    "\n",
    "# view top 10\n",
    "movies_gross.head()"
   ]
  },
  {
   "cell_type": "code",
   "execution_count": 4,
   "id": "a67a2264-33b2-476e-ab92-0799bcaa558e",
   "metadata": {},
   "outputs": [
    {
     "data": {
      "text/plain": [
       "(3387, 5)"
      ]
     },
     "execution_count": 4,
     "metadata": {},
     "output_type": "execute_result"
    }
   ],
   "source": [
    "# dimensionality of the dataset\n",
    "movies_gross.shape"
   ]
  },
  {
   "cell_type": "code",
   "execution_count": 6,
   "id": "244a60f7-9d0a-4960-b6dc-a8598ff34cd7",
   "metadata": {},
   "outputs": [
    {
     "data": {
      "text/plain": [
       "0"
      ]
     },
     "execution_count": 6,
     "metadata": {},
     "output_type": "execute_result"
    }
   ],
   "source": [
    "# check for duplicates \n",
    "movies_gross.duplicated().sum()"
   ]
  },
  {
   "cell_type": "code",
   "execution_count": 7,
   "id": "a9bb473d-1d3b-416c-8b5c-033840c9a1b2",
   "metadata": {},
   "outputs": [
    {
     "name": "stdout",
     "output_type": "stream",
     "text": [
      "<class 'pandas.core.frame.DataFrame'>\n",
      "RangeIndex: 3387 entries, 0 to 3386\n",
      "Data columns (total 5 columns):\n",
      " #   Column          Non-Null Count  Dtype  \n",
      "---  ------          --------------  -----  \n",
      " 0   title           3387 non-null   object \n",
      " 1   studio          3382 non-null   object \n",
      " 2   domestic_gross  3359 non-null   float64\n",
      " 3   foreign_gross   2037 non-null   object \n",
      " 4   year            3387 non-null   int64  \n",
      "dtypes: float64(1), int64(1), object(3)\n",
      "memory usage: 132.4+ KB\n"
     ]
    }
   ],
   "source": [
    "# data information \n",
    "movies_gross.info()"
   ]
  },
  {
   "cell_type": "code",
   "execution_count": 9,
   "id": "2600156b-32a6-41c6-ba1b-6506f166b1aa",
   "metadata": {},
   "outputs": [
    {
     "data": {
      "text/plain": [
       "title              object\n",
       "studio             object\n",
       "domestic_gross    float64\n",
       "foreign_gross      object\n",
       "year                int64\n",
       "dtype: object"
      ]
     },
     "execution_count": 9,
     "metadata": {},
     "output_type": "execute_result"
    }
   ],
   "source": [
    "# check for column data types\n",
    "movies_gross.dtypes"
   ]
  },
  {
   "cell_type": "code",
   "execution_count": 18,
   "id": "cf91ee9f-0992-44b5-9319-f9fc9583191e",
   "metadata": {},
   "outputs": [
    {
     "data": {
      "text/plain": [
       "title              0.000000\n",
       "studio             0.147623\n",
       "domestic_gross     0.826690\n",
       "foreign_gross     39.858282\n",
       "year               0.000000\n",
       "dtype: float64"
      ]
     },
     "execution_count": 18,
     "metadata": {},
     "output_type": "execute_result"
    }
   ],
   "source": [
    "# check missing values\n",
    "\n",
    "# total missing values per column\n",
    "missing = movies_gross.isnull().sum()\n",
    "\n",
    "# percentage of missing values\n",
    "missing_percent = (missing / len(movies_gross)) * 100\n",
    "missing_percent"
   ]
  },
  {
   "cell_type": "code",
   "execution_count": 24,
   "id": "b49b67f8-8575-4e1a-9470-97b85d170edd",
   "metadata": {},
   "outputs": [],
   "source": [
    "# clean the studio column by dropping the missing values \n",
    "movies_gross = movies_gross.dropna(subset=[\"studio\"])"
   ]
  },
  {
   "cell_type": "code",
   "execution_count": 25,
   "id": "af5d120d-1d54-4cc3-993e-424bf818fbb7",
   "metadata": {},
   "outputs": [
    {
     "data": {
      "text/plain": [
       "title                0\n",
       "studio               0\n",
       "domestic_gross      26\n",
       "foreign_gross     1349\n",
       "year                 0\n",
       "dtype: int64"
      ]
     },
     "execution_count": 25,
     "metadata": {},
     "output_type": "execute_result"
    }
   ],
   "source": [
    "movies_gross.isnull().sum()"
   ]
  },
  {
   "cell_type": "code",
   "execution_count": 27,
   "id": "e3e03f77-0f65-41d6-9239-2d6fece5de1d",
   "metadata": {},
   "outputs": [
    {
     "data": {
      "text/html": [
       "<div>\n",
       "<style scoped>\n",
       "    .dataframe tbody tr th:only-of-type {\n",
       "        vertical-align: middle;\n",
       "    }\n",
       "\n",
       "    .dataframe tbody tr th {\n",
       "        vertical-align: top;\n",
       "    }\n",
       "\n",
       "    .dataframe thead th {\n",
       "        text-align: right;\n",
       "    }\n",
       "</style>\n",
       "<table border=\"1\" class=\"dataframe\">\n",
       "  <thead>\n",
       "    <tr style=\"text-align: right;\">\n",
       "      <th></th>\n",
       "      <th>domestic_gross</th>\n",
       "      <th>year</th>\n",
       "    </tr>\n",
       "  </thead>\n",
       "  <tbody>\n",
       "    <tr>\n",
       "      <th>count</th>\n",
       "      <td>3.356000e+03</td>\n",
       "      <td>3382.000000</td>\n",
       "    </tr>\n",
       "    <tr>\n",
       "      <th>mean</th>\n",
       "      <td>2.877149e+07</td>\n",
       "      <td>2013.959787</td>\n",
       "    </tr>\n",
       "    <tr>\n",
       "      <th>std</th>\n",
       "      <td>6.700694e+07</td>\n",
       "      <td>2.477735</td>\n",
       "    </tr>\n",
       "    <tr>\n",
       "      <th>min</th>\n",
       "      <td>1.000000e+02</td>\n",
       "      <td>2010.000000</td>\n",
       "    </tr>\n",
       "    <tr>\n",
       "      <th>25%</th>\n",
       "      <td>1.200000e+05</td>\n",
       "      <td>2012.000000</td>\n",
       "    </tr>\n",
       "    <tr>\n",
       "      <th>50%</th>\n",
       "      <td>1.400000e+06</td>\n",
       "      <td>2014.000000</td>\n",
       "    </tr>\n",
       "    <tr>\n",
       "      <th>75%</th>\n",
       "      <td>2.795000e+07</td>\n",
       "      <td>2016.000000</td>\n",
       "    </tr>\n",
       "    <tr>\n",
       "      <th>max</th>\n",
       "      <td>9.367000e+08</td>\n",
       "      <td>2018.000000</td>\n",
       "    </tr>\n",
       "  </tbody>\n",
       "</table>\n",
       "</div>"
      ],
      "text/plain": [
       "       domestic_gross         year\n",
       "count    3.356000e+03  3382.000000\n",
       "mean     2.877149e+07  2013.959787\n",
       "std      6.700694e+07     2.477735\n",
       "min      1.000000e+02  2010.000000\n",
       "25%      1.200000e+05  2012.000000\n",
       "50%      1.400000e+06  2014.000000\n",
       "75%      2.795000e+07  2016.000000\n",
       "max      9.367000e+08  2018.000000"
      ]
     },
     "execution_count": 27,
     "metadata": {},
     "output_type": "execute_result"
    }
   ],
   "source": [
    "# summary statistics of the movies_gross numerical columns \n",
    "movies_gross.describe()"
   ]
  },
  {
   "cell_type": "code",
   "execution_count": 28,
   "id": "4ce8c82f-32ee-432b-ab07-25a390a77d03",
   "metadata": {},
   "outputs": [
    {
     "data": {
      "text/plain": [
       "26"
      ]
     },
     "execution_count": 28,
     "metadata": {},
     "output_type": "execute_result"
    }
   ],
   "source": [
    "movies_gross[\"domestic_gross\"].isna().sum()"
   ]
  },
  {
   "cell_type": "code",
   "execution_count": 34,
   "id": "c53433f0-5e65-4a0e-9fe8-d9544c251408",
   "metadata": {},
   "outputs": [
    {
     "data": {
      "image/png": "[encoded data removed]",
      "text/plain": [
       "<Figure size 640x480 with 1 Axes>"
      ]
     },
     "metadata": {},
     "output_type": "display_data"
    }
   ],
   "source": [
    "movies_gross[\"domestic_gross\"].plot(kind=\"hist\",bins=20)\n",
    "plt.show()"
   ]
  },
  {
   "cell_type": "markdown",
   "id": "266c8670-a14f-485b-b51e-30db82e5b476",
   "metadata": {},
   "source": [
    "##### the domestic_gross column is rightly skewed . It is NOT normally distributed due to outliers "
   ]
  },
  {
   "cell_type": "code",
   "execution_count": 36,
   "id": "1b9bbef2-aecb-4b22-8809-c1c003582181",
   "metadata": {},
   "outputs": [],
   "source": [
    "# fill missing values with median , less sesnsitive to outliers \n",
    "\n",
    "# median calculation\n",
    "domestic_median = movies_gross[\"domestic_gross\"].mean()\n",
    "\n",
    "# fill nan with median \n",
    "movies_gross[\"domestic_gross\"].fillna(domestic_median,inplace=True)"
   ]
  },
  {
   "cell_type": "code",
   "execution_count": 37,
   "id": "ccb2fc1d-dffd-4991-90ba-2e66db12e5dc",
   "metadata": {},
   "outputs": [
    {
     "data": {
      "text/plain": [
       "title                0\n",
       "studio               0\n",
       "domestic_gross       0\n",
       "foreign_gross     1349\n",
       "year                 0\n",
       "dtype: int64"
      ]
     },
     "execution_count": 37,
     "metadata": {},
     "output_type": "execute_result"
    }
   ],
   "source": [
    "movies_gross.isnull().sum()"
   ]
  },
  {
   "cell_type": "code",
   "execution_count": 39,
   "id": "83244f11-bca2-4cd8-9591-e80156f43d3c",
   "metadata": {},
   "outputs": [
    {
     "data": {
      "image/png": "[encoded data removed]",
      "text/plain": [
       "<Figure size 640x480 with 1 Axes>"
      ]
     },
     "metadata": {},
     "output_type": "display_data"
    }
   ],
   "source": [
    "movies_gross[\"domestic_gross\"].plot(kind=\"hist\")\n",
    "plt.show()"
   ]
  },
  {
   "cell_type": "code",
   "execution_count": 40,
   "id": "0c2559b6-3b8b-450b-b534-028c1dffedaf",
   "metadata": {},
   "outputs": [],
   "source": [
    "# cleaning the foreign gross column"
   ]
  },
  {
   "cell_type": "code",
   "execution_count": 49,
   "id": "6f10a1a6-f416-411f-96b4-845b3b0eae4a",
   "metadata": {},
   "outputs": [],
   "source": [
    "# convert foreign gross to numeric \n",
    "\n",
    "movies_gross[\"foreign_gross\"] = pd.to_numeric(\n",
    "    movies_gross[\"foreign_gross\"], errors=\"coerce\"\n",
    ").astype(\"Int64\")"
   ]
  },
  {
   "cell_type": "code",
   "execution_count": 53,
   "id": "b59a70c1-54df-450d-babb-886e0eb157c0",
   "metadata": {},
   "outputs": [
    {
     "data": {
      "text/plain": [
       "title              object\n",
       "studio             object\n",
       "domestic_gross    float64\n",
       "foreign_gross       Int64\n",
       "year                int64\n",
       "dtype: object"
      ]
     },
     "execution_count": 53,
     "metadata": {},
     "output_type": "execute_result"
    }
   ],
   "source": [
    "movies_gross.dtypes"
   ]
  },
  {
   "cell_type": "code",
   "execution_count": 54,
   "id": "3067d5fa-4bed-40af-875e-230bc135542a",
   "metadata": {},
   "outputs": [
    {
     "data": {
      "text/plain": [
       "count              2028.0\n",
       "mean      75139698.512327\n",
       "std      137633505.411442\n",
       "min                 600.0\n",
       "25%             3800000.0\n",
       "50%            19000000.0\n",
       "75%            75050000.0\n",
       "max           960500000.0\n",
       "Name: foreign_gross, dtype: Float64"
      ]
     },
     "execution_count": 54,
     "metadata": {},
     "output_type": "execute_result"
    }
   ],
   "source": [
    "movies_gross[\"foreign_gross\"].describe()"
   ]
  },
  {
   "cell_type": "code",
   "execution_count": 55,
   "id": "6751ea78-310e-458b-aea9-6b52feafc9e4",
   "metadata": {},
   "outputs": [],
   "source": [
    "# calculate the median\n",
    "foreign_median = movies_gross[\"foreign_gross\"].median()\n",
    "\n",
    "# fill nan with the median\n",
    "movies_gross[\"foreign_gross\"].fillna(foreign_median,inplace=True)"
   ]
  },
  {
   "cell_type": "code",
   "execution_count": 56,
   "id": "52f40c16-63cd-4ee1-adce-4d674e61a0e6",
   "metadata": {},
   "outputs": [
    {
     "data": {
      "text/plain": [
       "title             0\n",
       "studio            0\n",
       "domestic_gross    0\n",
       "foreign_gross     0\n",
       "year              0\n",
       "dtype: int64"
      ]
     },
     "execution_count": 56,
     "metadata": {},
     "output_type": "execute_result"
    }
   ],
   "source": [
    "movies_gross.isnull().sum()"
   ]
  },
  {
   "cell_type": "markdown",
   "id": "8c1bed53-a780-4359-a227-b939d74c052d",
   "metadata": {},
   "source": [
    "##### The dataset is now cleaned "
   ]
  },
  {
   "cell_type": "code",
   "execution_count": null,
   "id": "08f6c20d-f31d-4697-83ff-4e7f1398e793",
   "metadata": {},
   "outputs": [],
   "source": []
  },
  {
   "cell_type": "code",
   "execution_count": null,
   "id": "c637c2e7-12b6-479f-8d43-35696265e160",
   "metadata": {},
   "outputs": [],
   "source": []
  },
  {
   "cell_type": "markdown",
   "id": "87bde8b7-1e1c-4116-b1ef-51896fabf267",
   "metadata": {},
   "source": [
    "### Data 3"
   ]
  },
  {
   "cell_type": "code",
   "execution_count": 57,
   "id": "0db00b8e-daf4-4255-9d4d-0a04e5d2ff26",
   "metadata": {},
   "outputs": [
    {
     "data": {
      "text/html": [
       "<div>\n",
       "<style scoped>\n",
       "    .dataframe tbody tr th:only-of-type {\n",
       "        vertical-align: middle;\n",
       "    }\n",
       "\n",
       "    .dataframe tbody tr th {\n",
       "        vertical-align: top;\n",
       "    }\n",
       "\n",
       "    .dataframe thead th {\n",
       "        text-align: right;\n",
       "    }\n",
       "</style>\n",
       "<table border=\"1\" class=\"dataframe\">\n",
       "  <thead>\n",
       "    <tr style=\"text-align: right;\">\n",
       "      <th></th>\n",
       "      <th>i</th>\n",
       "      <th>synopsi</th>\n",
       "      <th>ratin</th>\n",
       "      <th>genr</th>\n",
       "      <th>directo</th>\n",
       "      <th>write</th>\n",
       "      <th>theater_dat</th>\n",
       "      <th>dvd_dat</th>\n",
       "      <th>currenc</th>\n",
       "      <th>box_offic</th>\n",
       "      <th>runtim</th>\n",
       "      <th>studio</th>\n",
       "    </tr>\n",
       "  </thead>\n",
       "  <tbody>\n",
       "    <tr>\n",
       "      <th>0</th>\n",
       "      <td>NaN</td>\n",
       "      <td>\"This gritty, fast-paced, and innovative polic...</td>\n",
       "      <td>NaN</td>\n",
       "      <td>Action and Adventure|Classics|Dram</td>\n",
       "      <td>William Friedki</td>\n",
       "      <td>Ernest Tidyma</td>\n",
       "      <td>Oct 9, 197</td>\n",
       "      <td>Sep 25, 200</td>\n",
       "      <td>NaN</td>\n",
       "      <td>104 minutes</td>\n",
       "      <td>None</td>\n",
       "      <td>None</td>\n",
       "    </tr>\n",
       "    <tr>\n",
       "      <th>1</th>\n",
       "      <td>NaN</td>\n",
       "      <td>New York City, not-too-distant-future: Eric Pa...</td>\n",
       "      <td>NaN</td>\n",
       "      <td>Drama|Science Fiction and Fantas</td>\n",
       "      <td>David Cronenber</td>\n",
       "      <td>David Cronenberg|Don DeLill</td>\n",
       "      <td>Aug 17, 201</td>\n",
       "      <td>Jan 1, 201</td>\n",
       "      <td>NaN</td>\n",
       "      <td>600,00</td>\n",
       "      <td>108 minute</td>\n",
       "      <td>Entertainment One</td>\n",
       "    </tr>\n",
       "    <tr>\n",
       "      <th>2</th>\n",
       "      <td>NaN</td>\n",
       "      <td>\"Illeana Douglas delivers a superb performance...</td>\n",
       "      <td>NaN</td>\n",
       "      <td>Drama|Musical and Performing Art</td>\n",
       "      <td>Allison Ander</td>\n",
       "      <td>Allison Ander</td>\n",
       "      <td>Sep 13, 199</td>\n",
       "      <td>Apr 18, 200</td>\n",
       "      <td>NaN</td>\n",
       "      <td>116 minutes</td>\n",
       "      <td>None</td>\n",
       "      <td>None</td>\n",
       "    </tr>\n",
       "    <tr>\n",
       "      <th>3</th>\n",
       "      <td>NaN</td>\n",
       "      <td>Michael Douglas runs afoul of a treacherous su...</td>\n",
       "      <td>NaN</td>\n",
       "      <td>Drama|Mystery and Suspens</td>\n",
       "      <td>Barry Levinso</td>\n",
       "      <td>Paul Attanasio|Michael Crichto</td>\n",
       "      <td>Dec 9, 199</td>\n",
       "      <td>Aug 27, 199</td>\n",
       "      <td>NaN</td>\n",
       "      <td>128 minutes</td>\n",
       "      <td>None</td>\n",
       "      <td>None</td>\n",
       "    </tr>\n",
       "    <tr>\n",
       "      <th>4</th>\n",
       "      <td>NaN</td>\n",
       "      <td>\\tN</td>\n",
       "      <td>Drama|Romanc</td>\n",
       "      <td>Rodney Bennet</td>\n",
       "      <td>Giles Coope</td>\n",
       "      <td>NaN</td>\n",
       "      <td>NaN</td>\n",
       "      <td>200 minutes</td>\n",
       "      <td>None</td>\n",
       "      <td>None</td>\n",
       "      <td>None</td>\n",
       "      <td>None</td>\n",
       "    </tr>\n",
       "  </tbody>\n",
       "</table>\n",
       "</div>"
      ],
      "text/plain": [
       "    i                                            synopsi         ratin  \\\n",
       "0 NaN  \"This gritty, fast-paced, and innovative polic...           NaN   \n",
       "1 NaN  New York City, not-too-distant-future: Eric Pa...           NaN   \n",
       "2 NaN  \"Illeana Douglas delivers a superb performance...           NaN   \n",
       "3 NaN  Michael Douglas runs afoul of a treacherous su...           NaN   \n",
       "4 NaN                                                \\tN  Drama|Romanc   \n",
       "\n",
       "                                 genr          directo  \\\n",
       "0  Action and Adventure|Classics|Dram  William Friedki   \n",
       "1    Drama|Science Fiction and Fantas  David Cronenber   \n",
       "2    Drama|Musical and Performing Art    Allison Ander   \n",
       "3           Drama|Mystery and Suspens    Barry Levinso   \n",
       "4                       Rodney Bennet      Giles Coope   \n",
       "\n",
       "                            write  theater_dat      dvd_dat currenc  \\\n",
       "0                   Ernest Tidyma   Oct 9, 197  Sep 25, 200     NaN   \n",
       "1     David Cronenberg|Don DeLill  Aug 17, 201   Jan 1, 201     NaN   \n",
       "2                   Allison Ander  Sep 13, 199  Apr 18, 200     NaN   \n",
       "3  Paul Attanasio|Michael Crichto   Dec 9, 199  Aug 27, 199     NaN   \n",
       "4                             NaN          NaN  200 minutes    None   \n",
       "\n",
       "     box_offic      runtim             studio  \n",
       "0  104 minutes        None               None  \n",
       "1       600,00  108 minute  Entertainment One  \n",
       "2  116 minutes        None               None  \n",
       "3  128 minutes        None               None  \n",
       "4         None        None               None  "
      ]
     },
     "execution_count": 57,
     "metadata": {},
     "output_type": "execute_result"
    }
   ],
   "source": [
    "# load the csv file \n",
    "movie_info = pd.read_csv(\"rt.movie_info.tsv.gz\",sep=\".\\t\")\n",
    "movie_info.head()"
   ]
  },
  {
   "cell_type": "code",
   "execution_count": 58,
   "id": "c4518340-fa53-4639-a8fb-d8bee19a8272",
   "metadata": {},
   "outputs": [
    {
     "data": {
      "text/plain": [
       "(1560, 12)"
      ]
     },
     "execution_count": 58,
     "metadata": {},
     "output_type": "execute_result"
    }
   ],
   "source": [
    "# shape \n",
    "movie_info.shape"
   ]
  },
  {
   "cell_type": "code",
   "execution_count": 60,
   "id": "9c32c6b6-fb0a-4389-ba40-71565ad828ea",
   "metadata": {},
   "outputs": [
    {
     "data": {
      "text/plain": [
       "['i',\n",
       " 'synopsi',\n",
       " 'ratin',\n",
       " 'genr',\n",
       " 'directo',\n",
       " 'write',\n",
       " 'theater_dat',\n",
       " 'dvd_dat',\n",
       " 'currenc',\n",
       " 'box_offic',\n",
       " 'runtim',\n",
       " 'studio']"
      ]
     },
     "execution_count": 60,
     "metadata": {},
     "output_type": "execute_result"
    }
   ],
   "source": [
    "# view column names\n",
    "movie_info.columns.tolist()"
   ]
  },
  {
   "cell_type": "code",
   "execution_count": 62,
   "id": "c5a2d74b-a269-48db-8471-74255b95d3ce",
   "metadata": {},
   "outputs": [
    {
     "name": "stdout",
     "output_type": "stream",
     "text": [
      "<class 'pandas.core.frame.DataFrame'>\n",
      "RangeIndex: 1560 entries, 0 to 1559\n",
      "Data columns (total 12 columns):\n",
      " #   Column       Non-Null Count  Dtype  \n",
      "---  ------       --------------  -----  \n",
      " 0   i            1554 non-null   float64\n",
      " 1   synopsi      1557 non-null   object \n",
      " 2   ratin        979 non-null    object \n",
      " 3   genr         1535 non-null   object \n",
      " 4   directo      1403 non-null   object \n",
      " 5   write        1343 non-null   object \n",
      " 6   theater_dat  1237 non-null   object \n",
      " 7   dvd_dat      1050 non-null   object \n",
      " 8   currenc      463 non-null    object \n",
      " 9   box_offic    1021 non-null   object \n",
      " 10  runtim       447 non-null    object \n",
      " 11  studio       235 non-null    object \n",
      "dtypes: float64(1), object(11)\n",
      "memory usage: 146.4+ KB\n"
     ]
    }
   ],
   "source": [
    "# check data structure and types\n",
    "movie_info.info()"
   ]
  },
  {
   "cell_type": "code",
   "execution_count": 63,
   "id": "140ae43e-aa13-4917-874a-f1b6bfa7764a",
   "metadata": {},
   "outputs": [
    {
     "data": {
      "text/plain": [
       "i              float64\n",
       "synopsi         object\n",
       "ratin           object\n",
       "genr            object\n",
       "directo         object\n",
       "write           object\n",
       "theater_dat     object\n",
       "dvd_dat         object\n",
       "currenc         object\n",
       "box_offic       object\n",
       "runtim          object\n",
       "studio          object\n",
       "dtype: object"
      ]
     },
     "execution_count": 63,
     "metadata": {},
     "output_type": "execute_result"
    }
   ],
   "source": [
    "# checking data types\n",
    "movie_info.dtypes"
   ]
  },
  {
   "cell_type": "code",
   "execution_count": 64,
   "id": "33b6aeec-4e38-4868-877c-eb0a3d399272",
   "metadata": {},
   "outputs": [
    {
     "data": {
      "text/plain": [
       "i                 6\n",
       "synopsi           3\n",
       "ratin           581\n",
       "genr             25\n",
       "directo         157\n",
       "write           217\n",
       "theater_dat     323\n",
       "dvd_dat         510\n",
       "currenc        1097\n",
       "box_offic       539\n",
       "runtim         1113\n",
       "studio         1325\n",
       "dtype: int64"
      ]
     },
     "execution_count": 64,
     "metadata": {},
     "output_type": "execute_result"
    }
   ],
   "source": [
    "# check for nulls \n",
    "movie_info.isnull().sum()"
   ]
  },
  {
   "cell_type": "code",
   "execution_count": 65,
   "id": "3d807712-4732-4f14-98b8-3c3aeb24a286",
   "metadata": {},
   "outputs": [
    {
     "data": {
      "text/plain": [
       "i               201\n",
       "synopsi        1500\n",
       "ratin            38\n",
       "genr            335\n",
       "directo        1172\n",
       "write          1276\n",
       "theater_dat     832\n",
       "dvd_dat         617\n",
       "currenc         207\n",
       "box_offic       464\n",
       "runtim          194\n",
       "studio          101\n",
       "dtype: int64"
      ]
     },
     "execution_count": 65,
     "metadata": {},
     "output_type": "execute_result"
    }
   ],
   "source": [
    "# check for uniqueness\n",
    "movie_info.nunique()"
   ]
  },
  {
   "cell_type": "code",
   "execution_count": null,
   "id": "6105f9ec-2c6c-42b7-96e4-80a2e39ec398",
   "metadata": {},
   "outputs": [],
   "source": []
  }
 ],
 "metadata": {
  "kernelspec": {
   "display_name": "Python 3 (ipykernel)",
   "language": "python",
   "name": "python3"
  },
  "language_info": {
   "codemirror_mode": {
    "name": "ipython",
    "version": 3
   },
   "file_extension": ".py",
   "mimetype": "text/x-python",
   "name": "python",
   "nbconvert_exporter": "python",
   "pygments_lexer": "ipython3",
   "version": "3.12.7"
  }
 },
 "nbformat": 4,
 "nbformat_minor": 5
}
